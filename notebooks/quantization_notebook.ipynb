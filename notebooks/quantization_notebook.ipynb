{
 "cells": [
  {
   "cell_type": "code",
   "execution_count": 49,
   "metadata": {
    "id": "jDokqf-CELXJ"
   },
   "outputs": [],
   "source": [
    "#Libraries Installations\n",
    "#!pip install pillow matplotlib"
   ]
  },
  {
   "cell_type": "code",
   "execution_count": 80,
   "metadata": {
    "id": "2mfiNoecfTf-",
    "outputId": "fe767170-782a-4d5d-b192-013d3bca8c85"
   },
   "outputs": [
    {
     "name": "stdout",
     "output_type": "stream",
     "text": [
      "Sat Dec 23 02:50:40 2023       \n",
      "+---------------------------------------------------------------------------------------+\n",
      "| NVIDIA-SMI 545.23.08              Driver Version: 545.23.08    CUDA Version: 12.3     |\n",
      "|-----------------------------------------+----------------------+----------------------+\n",
      "| GPU  Name                 Persistence-M | Bus-Id        Disp.A | Volatile Uncorr. ECC |\n",
      "| Fan  Temp   Perf          Pwr:Usage/Cap |         Memory-Usage | GPU-Util  Compute M. |\n",
      "|                                         |                      |               MIG M. |\n",
      "|=========================================+======================+======================|\n",
      "|   0  Quadro RTX 4000                On  | 00000000:65:00.0  On |                  N/A |\n",
      "| 30%   50C    P0              37W / 125W |   7611MiB /  8192MiB |      0%      Default |\n",
      "|                                         |                      |                  N/A |\n",
      "+-----------------------------------------+----------------------+----------------------+\n",
      "                                                                                         \n",
      "+---------------------------------------------------------------------------------------+\n",
      "| Processes:                                                                            |\n",
      "|  GPU   GI   CI        PID   Type   Process name                            GPU Memory |\n",
      "|        ID   ID                                                             Usage      |\n",
      "|=======================================================================================|\n",
      "+---------------------------------------------------------------------------------------+\n"
     ]
    }
   ],
   "source": [
    "!nvidia-smi"
   ]
  },
  {
   "cell_type": "raw",
   "metadata": {},
   "source": [
    "LIBRARIES IMPORT"
   ]
  },
  {
   "cell_type": "code",
   "execution_count": 81,
   "metadata": {
    "id": "jy-wOc3yfTf_",
    "outputId": "2daba51f-5072-4ef4-e5eb-1d61b866cf34"
   },
   "outputs": [],
   "source": [
    "from __future__ import absolute_import, division, print_function, unicode_literals\n",
    "import os\n",
    "import time\n",
    "import numpy as np\n",
    "import matplotlib.pyplot as plt\n",
    "import tensorflow as tf\n",
    "from tensorflow import keras\n",
    "from tensorflow.python.compiler.tensorrt import trt_convert as trt\n",
    "from tensorflow.python.saved_model import tag_constants\n",
    "from tensorflow.keras.applications.resnet50 import ResNet50\n",
    "from tensorflow.keras.preprocessing import image\n",
    "from tensorflow.keras.applications.resnet50 import preprocess_input, decode_predictions\n",
    "from tensorflow.keras import layers\n",
    "from tensorflow.keras import mixed_precision\n",
    "import tensorflow_datasets as tfds\n",
    "import IPython.display as display\n",
    "\n",
    "tfds.disable_progress_bar()\n",
    "os.environ[\"TF_CPP_MIN_LOG_LEVEL\"] = \"2\"\n",
    "tf.keras.backend.clear_session()\n",
    "#mixed_precision.set_global_policy('mixed_float16')"
   ]
  },
  {
   "cell_type": "code",
   "execution_count": 127,
   "metadata": {
    "id": "KmTnDuNofTgA",
    "outputId": "28b68a57-46c2-45ba-8e24-f148b9e590aa"
   },
   "outputs": [
    {
     "name": "stdout",
     "output_type": "stream",
     "text": [
      "Tensorflow version:  2.8.0\n",
      "TensorRT version: \n",
      "ii  libnvinfer-bin                    8.2.3-1+cuda11.4                  amd64        TensorRT binaries\n",
      "ii  libnvinfer-dev                    8.2.3-1+cuda11.4                  amd64        TensorRT development libraries and headers\n",
      "ii  libnvinfer-plugin-dev             8.2.3-1+cuda11.4                  amd64        TensorRT plugin libraries and headers\n",
      "ii  libnvinfer-plugin8                8.2.3-1+cuda11.4                  amd64        TensorRT plugin library\n",
      "ii  libnvinfer8                       8.2.3-1+cuda11.4                  amd64        TensorRT runtime libraries\n"
     ]
    }
   ],
   "source": [
    "print(\"Tensorflow version: \", tf.version.VERSION)\n",
    "\n",
    "# check TensorRT version\n",
    "print(\"TensorRT version: \")\n",
    "!dpkg -l | grep nvinfer"
   ]
  },
  {
   "cell_type": "raw",
   "metadata": {},
   "source": [
    "CIFAR-10 DATASET Import and Processing"
   ]
  },
  {
   "cell_type": "code",
   "execution_count": 83,
   "metadata": {
    "id": "OApw_5aGfTgC"
   },
   "outputs": [],
   "source": [
    "(ds_train, ds_validation), ds_info = tfds.load('cifar10', split=[\"train\", \"test\"], as_supervised=True, with_info=True )"
   ]
  },
  {
   "cell_type": "code",
   "execution_count": 84,
   "metadata": {
    "colab": {
     "base_uri": "https://localhost:8080/"
    },
    "id": "oWPI0a2AROrO",
    "outputId": "c1d2bbc8-5dba-4826-a581-0bf60c92ec70"
   },
   "outputs": [
    {
     "name": "stdout",
     "output_type": "stream",
     "text": [
      "(32, 32, 3) 7\n"
     ]
    }
   ],
   "source": [
    "for image, label in ds_train.take(1):  # example is (image, label)\n",
    "  print(image.shape, label.numpy())"
   ]
  },
  {
   "cell_type": "code",
   "execution_count": 85,
   "metadata": {
    "colab": {
     "base_uri": "https://localhost:8080/"
    },
    "id": "m-9bg0LvEMzK",
    "outputId": "fd3d3ea7-cd47-493f-8bff-b94f042326a0"
   },
   "outputs": [
    {
     "name": "stdout",
     "output_type": "stream",
     "text": [
      "tfds.core.DatasetInfo(\n",
      "    name='cifar10',\n",
      "    version=3.0.2,\n",
      "    description='The CIFAR-10 dataset consists of 60000 32x32 colour images in 10 classes, with 6000 images per class. There are 50000 training images and 10000 test images.',\n",
      "    homepage='https://www.cs.toronto.edu/~kriz/cifar.html',\n",
      "    features=FeaturesDict({\n",
      "        'id': Text(shape=(), dtype=tf.string),\n",
      "        'image': Image(shape=(32, 32, 3), dtype=tf.uint8),\n",
      "        'label': ClassLabel(shape=(), dtype=tf.int64, num_classes=10),\n",
      "    }),\n",
      "    total_num_examples=60000,\n",
      "    splits={\n",
      "        'test': 10000,\n",
      "        'train': 50000,\n",
      "    },\n",
      "    supervised_keys=('image', 'label'),\n",
      "    citation=\"\"\"@TECHREPORT{Krizhevsky09learningmultiple,\n",
      "        author = {Alex Krizhevsky},\n",
      "        title = {Learning multiple layers of features from tiny images},\n",
      "        institution = {},\n",
      "        year = {2009}\n",
      "    }\"\"\",\n",
      "    redistribution_info=,\n",
      ")\n",
      "\n"
     ]
    }
   ],
   "source": [
    "print(ds_info)"
   ]
  },
  {
   "cell_type": "code",
   "execution_count": 86,
   "metadata": {
    "id": "fQrowWCOfTgG"
   },
   "outputs": [],
   "source": [
    "BATCH_SIZE = 32\n",
    "IMG_SIZE = (48, 48)\n",
    "NUM_CLASSES = 10 ##CHANGE #####################################################################################\n",
    "IMG_SHAPE = IMG_SIZE + (3,)"
   ]
  },
  {
   "cell_type": "code",
   "execution_count": 87,
   "metadata": {
    "id": "Lq--KHoGtdGc"
   },
   "outputs": [
    {
     "name": "stdout",
     "output_type": "stream",
     "text": [
      "(32, 48, 48, 3) [7 8 4 4 6 5 2 9 6 6 9 9 3 0 8 7 9 0 4 9 0 8 6 4 2 8 8 7 0 8 4 2]\n"
     ]
    }
   ],
   "source": [
    "def resize_img(image, label):\n",
    "    return tf.image.resize(image,IMG_SIZE),label\n",
    "\n",
    "ds_train = ds_train.map(resize_img)\n",
    "ds_validation = ds_validation.map(resize_img)\n",
    "\n",
    "ds_train = ds_train.batch(BATCH_SIZE)\n",
    "ds_validation = ds_validation.batch(BATCH_SIZE)\n",
    "\n",
    "for image, label in ds_train.take(1):  # example is (image, label)\n",
    "  print(image.shape, label.numpy())"
   ]
  },
  {
   "cell_type": "code",
   "execution_count": 88,
   "metadata": {
    "id": "Y2dPEdfqtv_j"
   },
   "outputs": [
    {
     "data": {
      "image/png": "[encoded data removed]",
      "text/plain": [
       "<Figure size 720x720 with 9 Axes>"
      ]
     },
     "metadata": {
      "needs_background": "light"
     },
     "output_type": "display_data"
    }
   ],
   "source": [
    "plt.figure(figsize=(10, 10))\n",
    "for images, labels in ds_train.take(1):\n",
    "  for i in range(9):\n",
    "    ax = plt.subplot(3, 3, i + 1)\n",
    "    plt.imshow(images[i].numpy().astype(\"uint8\"))\n",
    "    plt.axis(\"off\")"
   ]
  },
  {
   "cell_type": "code",
   "execution_count": 89,
   "metadata": {
    "colab": {
     "base_uri": "https://localhost:8080/"
    },
    "id": "_YkugAimSG_d",
    "outputId": "711e05e3-0dd5-4efa-d223-4392c0700147"
   },
   "outputs": [
    {
     "name": "stdout",
     "output_type": "stream",
     "text": [
      "Number of validation batches: 251\n",
      "Number of test batches: 62\n"
     ]
    }
   ],
   "source": [
    "val_batches = tf.data.experimental.cardinality(ds_validation)\n",
    "ds_test = ds_validation.take(val_batches // 5)\n",
    "ds_validation = ds_validation.skip(val_batches // 5)\n",
    "\n",
    "print('Number of validation batches: %d' % tf.data.experimental.cardinality(ds_validation))\n",
    "print('Number of test batches: %d' % tf.data.experimental.cardinality(ds_test))\n",
    "test_batches = tf.data.experimental.cardinality(ds_test)\n",
    "\n",
    "AUTOTUNE = tf.data.AUTOTUNE\n",
    "\n",
    "ds_train = ds_train.prefetch(buffer_size=AUTOTUNE)\n",
    "ds_validation = ds_validation.prefetch(buffer_size=AUTOTUNE)\n",
    "ds_test = ds_test.prefetch(buffer_size=AUTOTUNE)"
   ]
  },
  {
   "cell_type": "code",
   "execution_count": 90,
   "metadata": {
    "id": "Mhzu0o2bSwCN"
   },
   "outputs": [
    {
     "data": {
      "image/png": "[encoded data removed]",
      "text/plain": [
       "<Figure size 720x720 with 9 Axes>"
      ]
     },
     "metadata": {
      "needs_background": "light"
     },
     "output_type": "display_data"
    }
   ],
   "source": [
    "data_augmentation = tf.keras.Sequential([\n",
    "  layers.RandomFlip(\"horizontal\"),\n",
    "  layers.RandomRotation(0.05),\n",
    "])\n",
    "\n",
    "for image, _ in ds_train.take(1):\n",
    "  plt.figure(figsize=(10, 10))\n",
    "  first_image = image[0]\n",
    "  for i in range(9):\n",
    "    ax = plt.subplot(3, 3, i + 1)\n",
    "    augmented_image = data_augmentation(tf.expand_dims(first_image, 0), training=True)\n",
    "    plt.imshow(augmented_image[0] / 255)\n",
    "    #plt.imshow(first_image / 255)\n",
    "    plt.axis('off')"
   ]
  },
  {
   "cell_type": "raw",
   "metadata": {},
   "source": [
    "CATS_and_DOGS_Filtered DATASET Import and Processing"
   ]
  },
  {
   "cell_type": "code",
   "execution_count": 27,
   "metadata": {
    "id": "EBS9sxsOfTgK",
    "outputId": "6598b1c9-eb7e-4499-88a6-f5e1f6c7dfc7"
   },
   "outputs": [],
   "source": [
    "# _URL = 'https://storage.googleapis.com/mledu-datasets/cats_and_dogs_filtered.zip'\n",
    "# path_to_zip = tf.keras.utils.get_file('cats_and_dogs.zip', origin=_URL, extract=True)\n",
    "# PATH = os.path.join(os.path.dirname(path_to_zip), 'cats_and_dogs_filtered')\n",
    "\n",
    "# train_dir = os.path.join(PATH, 'train')\n",
    "# validation_dir = os.path.join(PATH, 'validation')\n",
    "\n",
    "# BATCH_SIZE = 64\n",
    "# IMG_SIZE = (128, 128)\n",
    "# NUM_CLASSES = 2 ##CHANGE #####################################################################################\n",
    "# IMG_SHAPE = IMG_SIZE + (3,)\n",
    "\n",
    "# ds_train = tf.keras.utils.image_dataset_from_directory(train_dir,\n",
    "#                                                             shuffle=True,\n",
    "#                                                             batch_size=BATCH_SIZE,\n",
    "#                                                             image_size=IMG_SIZE)\n",
    "\n",
    "# ds_validation = tf.keras.utils.image_dataset_from_directory(validation_dir,\n",
    "#                                                                  shuffle=True,\n",
    "#                                                                  batch_size=BATCH_SIZE,\n",
    "#                                                                  image_size=IMG_SIZE)"
   ]
  },
  {
   "cell_type": "code",
   "execution_count": 28,
   "metadata": {
    "id": "vSpn3KaTfTgL",
    "outputId": "e4964dd3-e3a8-4bf6-b044-133c8a0e79c5"
   },
   "outputs": [],
   "source": [
    "# import matplotlib.pyplot as plt\n",
    "# class_names = ds_train.class_names\n",
    "\n",
    "# plt.figure(figsize=(10, 10))\n",
    "# for images, labels in ds_train.take(1):\n",
    "#   for i in range(9):\n",
    "#     ax = plt.subplot(3, 3, i + 1)\n",
    "#     plt.imshow(images[i].numpy().astype(\"uint8\"))\n",
    "#     #plt.title(class_names[labels[i]])\n",
    "#     plt.axis(\"off\")"
   ]
  },
  {
   "cell_type": "code",
   "execution_count": 29,
   "metadata": {
    "id": "UkHQUbL-fTgL"
   },
   "outputs": [],
   "source": [
    "# print(ds_info)"
   ]
  },
  {
   "cell_type": "code",
   "execution_count": 30,
   "metadata": {
    "id": "n12tIwy7fTgL"
   },
   "outputs": [],
   "source": [
    "# val_batches = tf.data.experimental.cardinality(ds_validation)\n",
    "# ds_test = ds_validation.take(val_batches // 5)\n",
    "# ds_validation = ds_validation.skip(val_batches // 5)\n",
    "\n",
    "# print('Number of validation batches: %d' % tf.data.experimental.cardinality(ds_validation))\n",
    "# print('Number of test batches: %d' % tf.data.experimental.cardinality(ds_test))\n",
    "# print('Number of Train batches: %d' % tf.data.experimental.cardinality(ds_train))\n",
    "\n",
    "# AUTOTUNE = tf.data.AUTOTUNE\n",
    "\n",
    "# ds_train = ds_train.prefetch(buffer_size=AUTOTUNE)\n",
    "# ds_validation = ds_validation.prefetch(buffer_size=AUTOTUNE)\n",
    "# ds_test = ds_test.prefetch(buffer_size=AUTOTUNE)"
   ]
  },
  {
   "cell_type": "code",
   "execution_count": 31,
   "metadata": {
    "id": "-DyTiil31BM1"
   },
   "outputs": [],
   "source": [
    "#plt.imshow(new_image)"
   ]
  },
  {
   "cell_type": "raw",
   "metadata": {},
   "source": [
    "Model Training without Optimization"
   ]
  },
  {
   "cell_type": "code",
   "execution_count": 91,
   "metadata": {
    "id": "BJdOIy4vpjG2"
   },
   "outputs": [],
   "source": [
    "from __future__ import absolute_import, division, print_function, unicode_literals\n",
    "import os\n",
    "import time\n",
    "import numpy as np\n",
    "#import matplotlib.pyplot as plt\n",
    "import tensorflow as tf\n",
    "from tensorflow import keras\n",
    "from tensorflow.python.compiler.tensorrt import trt_convert as trt\n",
    "from tensorflow.python.saved_model import tag_constants\n",
    "from tensorflow.keras.applications.resnet50 import ResNet50\n",
    "from tensorflow.keras.preprocessing import image\n",
    "from tensorflow.keras.applications.resnet50 import preprocess_input, decode_predictions\n",
    "import tensorflow_datasets as tfds\n",
    "import IPython.display as display"
   ]
  },
  {
   "cell_type": "code",
   "execution_count": 92,
   "metadata": {
    "id": "7BqstrzDfTgN"
   },
   "outputs": [],
   "source": [
    "from tensorflow.keras.applications.resnet50 import ResNet50\n",
    "from tensorflow.keras.applications.resnet50 import preprocess_input\n",
    "\n",
    "## Loading MobileNet model\n",
    "base_model = ResNet50(weights=\"imagenet\", include_top=False, input_shape=IMG_SHAPE)\n",
    "base_model.trainable = True ## trainable weights\n",
    "preprocess_input = tf.keras.applications.resnet50.preprocess_input"
   ]
  },
  {
   "cell_type": "code",
   "execution_count": 93,
   "metadata": {
    "id": "-3xyA9HEfTgN",
    "outputId": "e050c75a-626c-498d-a573-1234ade891ad"
   },
   "outputs": [],
   "source": [
    "# from tensorflow.keras.applications.mobilenet import MobileNet\n",
    "# from tensorflow.keras.applications.mobilenet import preprocess_input\n",
    "\n",
    "# ## Loading MobileNet model\n",
    "# base_model = MobileNet(weights=\"imagenet\", include_top=False, input_shape=IMG_SHAPE)\n",
    "# base_model.trainable = True ## trainable weights\n",
    "# preprocess_input = tf.keras.applications.mobilenet.preprocess_input"
   ]
  },
  {
   "cell_type": "code",
   "execution_count": 94,
   "metadata": {
    "id": "Gj_9eQ7mfTgN"
   },
   "outputs": [],
   "source": [
    "# from tensorflow.keras.applications.vgg16 import VGG16\n",
    "# from tensorflow.keras.applications.vgg16 import preprocess_input\n",
    "\n",
    "# ## Loading VGG16 model\n",
    "# base_model = VGG16(weights=\"imagenet\", include_top=False, input_shape=IMG_SHAPE)\n",
    "# base_model.trainable = True ## trainable weights\n",
    "# preprocess_input = tf.keras.applications.vgg16.preprocess_input"
   ]
  },
  {
   "cell_type": "code",
   "execution_count": 95,
   "metadata": {
    "id": "7Jv8GF4hfTgO"
   },
   "outputs": [],
   "source": [
    "from tensorflow.keras import layers, models\n",
    "\n",
    "flatten_layer = layers.Flatten()\n",
    "dense_layer_1 = layers.Dense(50, activation='relu')\n",
    "dense_layer_2 = layers.Dense(20, activation='relu')\n",
    "prediction_layer = layers.Dense(NUM_CLASSES, activation='softmax')\n",
    "\n",
    "\n",
    "inputs = tf.keras.Input(shape=IMG_SIZE + (3,)) #IMAGE SIZE\n",
    "x = preprocess_input(inputs)\n",
    "x = base_model(x)\n",
    "x = flatten_layer(x)\n",
    "x = dense_layer_1(x)\n",
    "x = dense_layer_2(x)\n",
    "outputs = prediction_layer(x)\n",
    "model = tf.keras.Model(inputs, outputs)"
   ]
  },
  {
   "cell_type": "code",
   "execution_count": 96,
   "metadata": {
    "id": "diGlL9b2XTre"
   },
   "outputs": [],
   "source": [
    "base_learning_rate = 0.0001\n",
    "model.compile(optimizer=tf.keras.optimizers.Adam(learning_rate=base_learning_rate),\n",
    "              loss=keras.losses.SparseCategoricalCrossentropy(from_logits=False), # default from_logits=False\n",
    "              metrics=['accuracy'])"
   ]
  },
  {
   "cell_type": "code",
   "execution_count": 97,
   "metadata": {
    "colab": {
     "base_uri": "https://localhost:8080/"
    },
    "id": "4g9tgnEzXToq",
    "outputId": "427092cb-7459-4b7b-e720-5ee59beebe73"
   },
   "outputs": [
    {
     "name": "stdout",
     "output_type": "stream",
     "text": [
      "Model: \"model\"\n",
      "_________________________________________________________________\n",
      " Layer (type)                Output Shape              Param #   \n",
      "=================================================================\n",
      " input_2 (InputLayer)        [(None, 48, 48, 3)]       0         \n",
      "                                                                 \n",
      " tf.__operators__.getitem (S  (None, 48, 48, 3)        0         \n",
      " licingOpLambda)                                                 \n",
      "                                                                 \n",
      " tf.nn.bias_add (TFOpLambda)  (None, 48, 48, 3)        0         \n",
      "                                                                 \n",
      " resnet50 (Functional)       (None, 2, 2, 2048)        23587712  \n",
      "                                                                 \n",
      " flatten (Flatten)           (None, 8192)              0         \n",
      "                                                                 \n",
      " dense (Dense)               (None, 50)                409650    \n",
      "                                                                 \n",
      " dense_1 (Dense)             (None, 20)                1020      \n",
      "                                                                 \n",
      " dense_2 (Dense)             (None, 10)                210       \n",
      "                                                                 \n",
      "=================================================================\n",
      "Total params: 23,998,592\n",
      "Trainable params: 23,945,472\n",
      "Non-trainable params: 53,120\n",
      "_________________________________________________________________\n"
     ]
    }
   ],
   "source": [
    "model.summary()"
   ]
  },
  {
   "cell_type": "code",
   "execution_count": 98,
   "metadata": {
    "colab": {
     "base_uri": "https://localhost:8080/"
    },
    "id": "7Fq3zi5HXTlz",
    "outputId": "aa9256e1-5675-4bc9-dbc0-1edae761b36f"
   },
   "outputs": [
    {
     "data": {
      "text/plain": [
       "218"
      ]
     },
     "execution_count": 98,
     "metadata": {},
     "output_type": "execute_result"
    }
   ],
   "source": [
    "len(model.trainable_variables)"
   ]
  },
  {
   "cell_type": "code",
   "execution_count": 99,
   "metadata": {
    "id": "a26VMejIXlPa",
    "outputId": "541297e6-fd24-41e3-9845-559a58aace46"
   },
   "outputs": [
    {
     "name": "stdout",
     "output_type": "stream",
     "text": [
      "Epoch 1/10\n",
      "1563/1563 [==============================] - 72s 44ms/step - loss: 0.8818 - accuracy: 0.7153 - val_loss: 0.5690 - val_accuracy: 0.8171\n",
      "Epoch 2/10\n",
      "1563/1563 [==============================] - 68s 43ms/step - loss: 0.3615 - accuracy: 0.8810 - val_loss: 0.5631 - val_accuracy: 0.8417\n",
      "Epoch 3/10\n",
      "1563/1563 [==============================] - 68s 44ms/step - loss: 0.2026 - accuracy: 0.9323 - val_loss: 0.6494 - val_accuracy: 0.8384\n",
      "Epoch 4/10\n",
      "1563/1563 [==============================] - 68s 43ms/step - loss: 0.1391 - accuracy: 0.9542 - val_loss: 0.6098 - val_accuracy: 0.8512\n",
      "Epoch 5/10\n",
      "1563/1563 [==============================] - 67s 43ms/step - loss: 0.1093 - accuracy: 0.9632 - val_loss: 0.6615 - val_accuracy: 0.8436\n",
      "Epoch 6/10\n",
      "1563/1563 [==============================] - 68s 43ms/step - loss: 0.0854 - accuracy: 0.9723 - val_loss: 0.6854 - val_accuracy: 0.8497\n",
      "Epoch 7/10\n",
      "1563/1563 [==============================] - 68s 43ms/step - loss: 0.0790 - accuracy: 0.9745 - val_loss: 0.6150 - val_accuracy: 0.8609\n",
      "Epoch 8/10\n",
      "1563/1563 [==============================] - 67s 43ms/step - loss: 0.0669 - accuracy: 0.9791 - val_loss: 0.6002 - val_accuracy: 0.8648\n",
      "Epoch 9/10\n",
      "1563/1563 [==============================] - 67s 43ms/step - loss: 0.0541 - accuracy: 0.9824 - val_loss: 0.6505 - val_accuracy: 0.8592\n",
      "Epoch 10/10\n",
      "1563/1563 [==============================] - 67s 43ms/step - loss: 0.0535 - accuracy: 0.9822 - val_loss: 0.6383 - val_accuracy: 0.8593\n"
     ]
    }
   ],
   "source": [
    "initial_epochs = 10\n",
    "history = model.fit(ds_train,\n",
    "                    epochs=initial_epochs,\n",
    "                    validation_data=ds_validation)"
   ]
  },
  {
   "cell_type": "code",
   "execution_count": 100,
   "metadata": {
    "colab": {
     "base_uri": "https://localhost:8080/"
    },
    "id": "yNwtbMhEXlMy",
    "outputId": "3ef538ad-5e21-477d-b9fa-99a9d0c07794"
   },
   "outputs": [
    {
     "name": "stdout",
     "output_type": "stream",
     "text": [
      "62/62 [==============================] - 1s 17ms/step - loss: 0.5702 - accuracy: 0.8805\n",
      "final loss: 0.57\n",
      "final accuracy: 0.88\n"
     ]
    }
   ],
   "source": [
    "loss1, accuracy1 = model.evaluate(ds_test)\n",
    "print(\"final loss: {:.2f}\".format(loss1))\n",
    "print(\"final accuracy: {:.2f}\".format(accuracy1))"
   ]
  },
  {
   "cell_type": "code",
   "execution_count": 101,
   "metadata": {
    "id": "e89VTPorfTgV",
    "outputId": "b8acfef6-74df-44aa-e39d-a511d71fff73"
   },
   "outputs": [
    {
     "name": "stdout",
     "output_type": "stream",
     "text": [
      "Accruacy of base model: %f tf.Tensor(0.8709677419354839, shape=(), dtype=float64)\n"
     ]
    }
   ],
   "source": [
    "from tensorflow.keras.utils import to_categorical\n",
    "accuracy_sum_base = 0.0\n",
    "for image, label in ds_test.take(-1):  # example is (image, label)\n",
    "    #print(image.shape, label.numpy())\n",
    "    test_labels = to_categorical(label, num_classes=NUM_CLASSES)\n",
    "    #print(test_labels)\n",
    "    pred_labels = model.predict(image)\n",
    "    #print(pred_labels)\n",
    "    m = tf.keras.metrics.TopKCategoricalAccuracy(k=1)\n",
    "    m.update_state(test_labels,pred_labels)\n",
    "    #print(m.result().numpy())\n",
    "    accuracy_sum_base = accuracy_sum_base + m.result().numpy()\n",
    "\n",
    "accuracy_base = accuracy_sum_base/test_batches\n",
    "#print('Number of Train batches: %d' % tf.data.experimental.cardinality(ds_train))\n",
    "print('Accruacy of base model: %f',accuracy_base)"
   ]
  },
  {
   "cell_type": "code",
   "execution_count": 102,
   "metadata": {
    "id": "6w6TqFsUXlHP",
    "outputId": "8147766a-0683-463a-bc6a-1c1eb20c11e6"
   },
   "outputs": [
    {
     "name": "stdout",
     "output_type": "stream",
     "text": [
      "INFO:tensorflow:Assets written to: resnet50_saved_model/assets\n"
     ]
    },
    {
     "name": "stderr",
     "output_type": "stream",
     "text": [
      "INFO:tensorflow:Assets written to: resnet50_saved_model/assets\n"
     ]
    }
   ],
   "source": [
    "# Save the entire model as a SavedModel.\n",
    "model.save('resnet50_saved_model')"
   ]
  },
  {
   "cell_type": "code",
   "execution_count": 103,
   "metadata": {
    "id": "3d_WtJbDfTgW"
   },
   "outputs": [],
   "source": [
    "model = tf.keras.models.load_model('resnet50_saved_model')"
   ]
  },
  {
   "cell_type": "code",
   "execution_count": 104,
   "metadata": {
    "id": "u9yXvhVafTgW"
   },
   "outputs": [
    {
     "name": "stdout",
     "output_type": "stream",
     "text": [
      "(32, 48, 48, 3)\n",
      "Step 0: 48.4ms\n",
      "Step 50: 52.8ms\n",
      "Step 100: 52.3ms\n",
      "Step 150: 50.8ms\n",
      "Step 200: 49.0ms\n",
      "Step 250: 51.2ms\n",
      "Native TF2.0 saved model\n",
      "Latency: 51.2ms\n",
      "Throughput: 625 images/s\n"
     ]
    }
   ],
   "source": [
    "# Benchmarking throughput\n",
    "batch_size = BATCH_SIZE\n",
    "N_warmup_run = 50\n",
    "N_run = 300\n",
    "elapsed_time = []\n",
    "\n",
    "for image, _ in ds_test.take(1):\n",
    "    batched_input = image\n",
    "    print(batched_input.shape)\n",
    "\n",
    "for i in range(N_warmup_run):\n",
    "  preds = model.predict(batched_input)\n",
    "\n",
    "for i in range(N_run):\n",
    "  start_time = time.time()\n",
    "  preds = model.predict(batched_input)\n",
    "  end_time = time.time()\n",
    "  elapsed_time = np.append(elapsed_time, end_time - start_time)\n",
    "  if i % 50 == 0:\n",
    "    print('Step {}: {:4.1f}ms'.format(i, (elapsed_time[-50:].mean()) * 1000))\n",
    "\n",
    "print('Native TF2.0 saved model')\n",
    "print('Latency: {:4.1f}ms'.format((elapsed_time.mean()) * 1000))\n",
    "print('Throughput: {:.0f} images/s'.format(N_run * batch_size / elapsed_time.sum()))\n"
   ]
  },
  {
   "cell_type": "code",
   "execution_count": null,
   "metadata": {
    "id": "Y93wFanPfTgY"
   },
   "outputs": [],
   "source": []
  },
  {
   "cell_type": "code",
   "execution_count": null,
   "metadata": {},
   "outputs": [],
   "source": []
  },
  {
   "cell_type": "code",
   "execution_count": null,
   "metadata": {},
   "outputs": [],
   "source": []
  },
  {
   "cell_type": "code",
   "execution_count": null,
   "metadata": {},
   "outputs": [],
   "source": []
  },
  {
   "cell_type": "code",
   "execution_count": null,
   "metadata": {},
   "outputs": [],
   "source": []
  },
  {
   "cell_type": "raw",
   "metadata": {},
   "source": [
    "Model Training TF-TRT FP32 Optimization"
   ]
  },
  {
   "cell_type": "code",
   "execution_count": 105,
   "metadata": {
    "id": "HctIvZKufTgY",
    "outputId": "77553d5c-9373-430b-aa13-4d42205eb1f1"
   },
   "outputs": [
    {
     "name": "stdout",
     "output_type": "stream",
     "text": [
      "Converting to TF-TRT FP32...\n",
      "INFO:tensorflow:Linked TensorRT version: (8, 2, 3)\n"
     ]
    },
    {
     "name": "stderr",
     "output_type": "stream",
     "text": [
      "INFO:tensorflow:Linked TensorRT version: (8, 2, 3)\n"
     ]
    },
    {
     "name": "stdout",
     "output_type": "stream",
     "text": [
      "INFO:tensorflow:Loaded TensorRT version: (8, 2, 3)\n"
     ]
    },
    {
     "name": "stderr",
     "output_type": "stream",
     "text": [
      "INFO:tensorflow:Loaded TensorRT version: (8, 2, 3)\n"
     ]
    },
    {
     "name": "stdout",
     "output_type": "stream",
     "text": [
      "INFO:tensorflow:Could not find TRTEngineOp_1_0 in TF-TRT cache. This can happen if build() is not called, which means TensorRT engines will be built and cached at runtime.\n"
     ]
    },
    {
     "name": "stderr",
     "output_type": "stream",
     "text": [
      "INFO:tensorflow:Could not find TRTEngineOp_1_0 in TF-TRT cache. This can happen if build() is not called, which means TensorRT engines will be built and cached at runtime.\n"
     ]
    },
    {
     "name": "stdout",
     "output_type": "stream",
     "text": [
      "INFO:tensorflow:Assets written to: resnet50_saved_model_TFTRT_FP32/assets\n"
     ]
    },
    {
     "name": "stderr",
     "output_type": "stream",
     "text": [
      "INFO:tensorflow:Assets written to: resnet50_saved_model_TFTRT_FP32/assets\n"
     ]
    },
    {
     "name": "stdout",
     "output_type": "stream",
     "text": [
      "Done Converting to TF-TRT FP32\n"
     ]
    }
   ],
   "source": [
    "print('Converting to TF-TRT FP32...')\n",
    "\n",
    "conversion_params = trt.DEFAULT_TRT_CONVERSION_PARAMS\n",
    "conversion_params = conversion_params._replace(precision_mode=\"FP32\")\n",
    "conversion_params = conversion_params._replace(minimum_segment_size=3)\n",
    "converter = trt.TrtGraphConverterV2( input_saved_model_dir='resnet50_saved_model', conversion_params=conversion_params)\n",
    "\n",
    "#converter = trt.TrtGraphConverterV2(input_saved_model_dir='resnet50_saved_model',\n",
    "#                                   precision_mode=trt.TrtPrecisionMode.FP32,\n",
    "#                                    max_workspace_size_bytes=8000000000)\n",
    "\n",
    "converter.convert()\n",
    "converter.save(output_saved_model_dir='resnet50_saved_model_TFTRT_FP32')\n",
    "print('Done Converting to TF-TRT FP32')"
   ]
  },
  {
   "cell_type": "code",
   "execution_count": 106,
   "metadata": {
    "id": "OwJB6raLfTga"
   },
   "outputs": [],
   "source": [
    "saved_model_loaded = tf.saved_model.load('resnet50_saved_model_TFTRT_FP32', tags=[tag_constants.SERVING])"
   ]
  },
  {
   "cell_type": "code",
   "execution_count": 107,
   "metadata": {
    "id": "FeYbCZFDfTga"
   },
   "outputs": [],
   "source": [
    "for image, _ in ds_test.take(1):\n",
    "    batched_input = image"
   ]
  },
  {
   "cell_type": "code",
   "execution_count": 108,
   "metadata": {
    "id": "bS691_9UfTgb",
    "outputId": "3a849014-df54-4d78-b3c6-0266c55c4e81"
   },
   "outputs": [
    {
     "name": "stdout",
     "output_type": "stream",
     "text": [
      "['serving_default']\n",
      "{'dense_2': TensorSpec(shape=(None, 10), dtype=tf.float32, name='dense_2')}\n"
     ]
    }
   ],
   "source": [
    "#saved_model_loaded = tf.saved_model.load('resnet50_saved_model_TFTRT_FP32', tags=[tag_constants.SERVING])\n",
    "signature_keys = list(saved_model_loaded.signatures.keys())\n",
    "print(signature_keys)\n",
    "\n",
    "infer = saved_model_loaded.signatures['serving_default']\n",
    "print(infer.structured_outputs)\n",
    "\n",
    "labeling = infer(image)\n",
    "preds = labeling['dense_2'].numpy()\n"
   ]
  },
  {
   "cell_type": "code",
   "execution_count": 110,
   "metadata": {
    "id": "QNXl549jfTgb",
    "outputId": "a5759a70-12c9-4944-cf8b-b89a1d8cf446"
   },
   "outputs": [
    {
     "name": "stdout",
     "output_type": "stream",
     "text": [
      "Accuracy of FP32 model: %f tf.Tensor(0.8709677419354839, shape=(), dtype=float64)\n"
     ]
    }
   ],
   "source": [
    "from tensorflow.keras.utils import to_categorical\n",
    "accuracy_sum_FP32 = 0.0\n",
    "for image, label in ds_test.take(-1):  # example is (image, label)\n",
    "    #print(image.shape, label.numpy())\n",
    "    test_labels = to_categorical(label, num_classes=NUM_CLASSES)\n",
    "    #print(test_labels)\n",
    "    labeling = infer(image)\n",
    "    pred_labels = labeling['dense_2'].numpy()\n",
    "    #print(pred_labels)\n",
    "    m = tf.keras.metrics.TopKCategoricalAccuracy(k=1)\n",
    "    m.update_state(test_labels,pred_labels)\n",
    "    #print(m.result().numpy())\n",
    "    accuracy_sum_FP32 = accuracy_sum_FP32 + m.result().numpy()\n",
    "\n",
    "accuracy_FP32 = accuracy_sum_FP32/test_batches\n",
    "#print('Number of Train batches: %d' % tf.data.experimental.cardinality(ds_train))\n",
    "print('Accuracy of FP32 model: %f',accuracy_FP32)"
   ]
  },
  {
   "cell_type": "code",
   "execution_count": 111,
   "metadata": {
    "id": "rBqshHhAfTgb"
   },
   "outputs": [],
   "source": [
    "def benchmark_tftrt(input_saved_model):\n",
    "    #saved_model_loaded = tf.saved_model.load(input_saved_model, tags=[tag_constants.SERVING])\n",
    "    infer = saved_model_loaded.signatures['serving_default']\n",
    "\n",
    "    for image, _ in ds_test.take(1):\n",
    "        batched_input = image\n",
    "        print(batched_input.shape)\n",
    "\n",
    "    batch_size = BATCH_SIZE\n",
    "    N_warmup_run = 50\n",
    "    N_run = 300\n",
    "    elapsed_time = []\n",
    "\n",
    "    for i in range(N_warmup_run):\n",
    "      labeling = infer(batched_input)\n",
    "\n",
    "    for i in range(N_run):\n",
    "      start_time = time.time()\n",
    "      labeling = infer(batched_input)\n",
    "      end_time = time.time()\n",
    "      elapsed_time = np.append(elapsed_time, end_time - start_time)\n",
    "      if i % 50 == 0:\n",
    "        print('Step {}: {:4.1f}ms'.format(i, (elapsed_time[-50:].mean()) * 1000))\n",
    "\n",
    "    print('FP32/FP16 TF2.0 saved model')\n",
    "    #print(batched_input.shape)\n",
    "    print('Latency: {:4.1f}ms'.format((elapsed_time.mean()) * 1000))\n",
    "    print('Throughput: {:.0f} images/s'.format(N_run * batch_size / elapsed_time.sum()))"
   ]
  },
  {
   "cell_type": "code",
   "execution_count": 112,
   "metadata": {
    "id": "pyIGtC_zfTgc"
   },
   "outputs": [
    {
     "name": "stdout",
     "output_type": "stream",
     "text": [
      "(32, 48, 48, 3)\n",
      "Step 0:  4.1ms\n",
      "Step 50:  4.1ms\n",
      "Step 100:  4.4ms\n",
      "Step 150:  4.1ms\n",
      "Step 200:  4.2ms\n",
      "Step 250:  4.2ms\n",
      "FP32/FP16 TF2.0 saved model\n",
      "Latency:  4.2ms\n",
      "Throughput: 7636 images/s\n"
     ]
    }
   ],
   "source": [
    "benchmark_tftrt('resnet50_saved_model_TFTRT_FP32')"
   ]
  },
  {
   "cell_type": "code",
   "execution_count": null,
   "metadata": {
    "id": "CU_AdX6HfTgd"
   },
   "outputs": [],
   "source": []
  },
  {
   "cell_type": "code",
   "execution_count": null,
   "metadata": {},
   "outputs": [],
   "source": []
  },
  {
   "cell_type": "code",
   "execution_count": null,
   "metadata": {},
   "outputs": [],
   "source": []
  },
  {
   "cell_type": "code",
   "execution_count": null,
   "metadata": {},
   "outputs": [],
   "source": []
  },
  {
   "cell_type": "code",
   "execution_count": null,
   "metadata": {
    "id": "1A3KQgZWfTgd"
   },
   "outputs": [],
   "source": []
  },
  {
   "cell_type": "code",
   "execution_count": null,
   "metadata": {
    "id": "bqzQJrW4fTge"
   },
   "outputs": [],
   "source": []
  },
  {
   "cell_type": "raw",
   "metadata": {
    "id": "yzRJIbt4fTge"
   },
   "source": [
    "Model Training TF-TRT FP16 Optimization"
   ]
  },
  {
   "cell_type": "code",
   "execution_count": 113,
   "metadata": {
    "id": "fux7IBx6fTge",
    "outputId": "6fe79db4-51fd-48f7-a6a2-2b8e4ea5fd91"
   },
   "outputs": [
    {
     "name": "stdout",
     "output_type": "stream",
     "text": [
      "Converting to TF-TRT FP16...\n",
      "INFO:tensorflow:Linked TensorRT version: (8, 2, 3)\n"
     ]
    },
    {
     "name": "stderr",
     "output_type": "stream",
     "text": [
      "INFO:tensorflow:Linked TensorRT version: (8, 2, 3)\n"
     ]
    },
    {
     "name": "stdout",
     "output_type": "stream",
     "text": [
      "INFO:tensorflow:Loaded TensorRT version: (8, 2, 3)\n"
     ]
    },
    {
     "name": "stderr",
     "output_type": "stream",
     "text": [
      "INFO:tensorflow:Loaded TensorRT version: (8, 2, 3)\n"
     ]
    },
    {
     "name": "stdout",
     "output_type": "stream",
     "text": [
      "INFO:tensorflow:Could not find TRTEngineOp_2_0 in TF-TRT cache. This can happen if build() is not called, which means TensorRT engines will be built and cached at runtime.\n"
     ]
    },
    {
     "name": "stderr",
     "output_type": "stream",
     "text": [
      "INFO:tensorflow:Could not find TRTEngineOp_2_0 in TF-TRT cache. This can happen if build() is not called, which means TensorRT engines will be built and cached at runtime.\n"
     ]
    },
    {
     "name": "stdout",
     "output_type": "stream",
     "text": [
      "INFO:tensorflow:Assets written to: resnet50_saved_model_TFTRT_FP16/assets\n"
     ]
    },
    {
     "name": "stderr",
     "output_type": "stream",
     "text": [
      "INFO:tensorflow:Assets written to: resnet50_saved_model_TFTRT_FP16/assets\n"
     ]
    },
    {
     "name": "stdout",
     "output_type": "stream",
     "text": [
      "Done Converting to TF-TRT FP16\n"
     ]
    }
   ],
   "source": [
    "print('Converting to TF-TRT FP16...')\n",
    "\n",
    "conversion_params = trt.DEFAULT_TRT_CONVERSION_PARAMS\n",
    "conversion_params = conversion_params._replace(precision_mode=\"FP16\")\n",
    "conversion_params = conversion_params._replace(minimum_segment_size=3)\n",
    "converter = trt.TrtGraphConverterV2( input_saved_model_dir='resnet50_saved_model', conversion_params=conversion_params)\n",
    "\n",
    "#converter = trt.TrtGraphConverterV2(input_saved_model_dir='resnet50_saved_model',\n",
    "#                                   precision_mode=trt.TrtPrecisionMode.FP32,\n",
    "#                                    max_workspace_size_bytes=8000000000)\n",
    "\n",
    "converter.convert()\n",
    "converter.save(output_saved_model_dir='resnet50_saved_model_TFTRT_FP16')\n",
    "print('Done Converting to TF-TRT FP16')"
   ]
  },
  {
   "cell_type": "code",
   "execution_count": 114,
   "metadata": {
    "id": "_g-FTXX-fTgf"
   },
   "outputs": [],
   "source": [
    "saved_model_loaded = tf.saved_model.load('resnet50_saved_model_TFTRT_FP16', tags=[tag_constants.SERVING])"
   ]
  },
  {
   "cell_type": "code",
   "execution_count": 115,
   "metadata": {
    "id": "fbFUX9HGfTgf",
    "outputId": "d547eaeb-9a9b-487a-a52e-bb81b2ceea15"
   },
   "outputs": [
    {
     "name": "stdout",
     "output_type": "stream",
     "text": [
      "['serving_default']\n",
      "{'dense_2': TensorSpec(shape=(None, 10), dtype=tf.float32, name='dense_2')}\n"
     ]
    }
   ],
   "source": [
    "#saved_model_loaded = tf.saved_model.load('resnet50_saved_model_TFTRT_FP16', tags=[tag_constants.SERVING])\n",
    "signature_keys = list(saved_model_loaded.signatures.keys())\n",
    "print(signature_keys)\n",
    "\n",
    "infer = saved_model_loaded.signatures['serving_default']\n",
    "print(infer.structured_outputs)\n",
    "\n",
    "labeling = infer(image)"
   ]
  },
  {
   "cell_type": "code",
   "execution_count": 116,
   "metadata": {
    "id": "xHhLvhHVfTgg",
    "outputId": "7b5f3660-8a5f-4f38-c1d3-893e708fe8ff"
   },
   "outputs": [
    {
     "name": "stdout",
     "output_type": "stream",
     "text": [
      "Accuracy of FP16 model: %f tf.Tensor(0.8709677419354839, shape=(), dtype=float64)\n"
     ]
    }
   ],
   "source": [
    "from tensorflow.keras.utils import to_categorical\n",
    "accuracy_sum_FP16 = 0.0\n",
    "for image, label in ds_test.take(-1):  # example is (image, label)\n",
    "    #print(image.shape, label.numpy())\n",
    "    test_labels = to_categorical(label, num_classes=NUM_CLASSES)\n",
    "    #print(test_labels)\n",
    "    labeling = infer(image)\n",
    "    pred_labels = labeling['dense_2'].numpy()\n",
    "    #print(pred_labels)\n",
    "    m = tf.keras.metrics.TopKCategoricalAccuracy(k=1)\n",
    "    m.update_state(test_labels,pred_labels)\n",
    "    #print(m.result().numpy())\n",
    "    accuracy_sum_FP16 = accuracy_sum_FP16 + m.result().numpy()\n",
    "\n",
    "accuracy_FP16 = accuracy_sum_FP16/test_batches\n",
    "#print('Number of Train batches: %d' % tf.data.experimental.cardinality(ds_train))\n",
    "print('Accuracy of FP16 model: %f',accuracy_FP16)"
   ]
  },
  {
   "cell_type": "code",
   "execution_count": 117,
   "metadata": {
    "id": "fLI0tjzufTgh"
   },
   "outputs": [],
   "source": [
    "def benchmark_tftrt(input_saved_model):\n",
    "    #saved_model_loaded = tf.saved_model.load(input_saved_model, tags=[tag_constants.SERVING])\n",
    "    infer = saved_model_loaded.signatures['serving_default']\n",
    "\n",
    "    for image, _ in ds_test.take(1):\n",
    "        batched_input = image\n",
    "        print(batched_input.shape)\n",
    "\n",
    "    batch_size = BATCH_SIZE\n",
    "    N_warmup_run = 50\n",
    "    N_run = 300\n",
    "    elapsed_time = []\n",
    "\n",
    "    for i in range(N_warmup_run):\n",
    "      labeling = infer(batched_input)\n",
    "\n",
    "    for i in range(N_run):\n",
    "      start_time = time.time()\n",
    "      labeling = infer(batched_input)\n",
    "      end_time = time.time()\n",
    "      elapsed_time = np.append(elapsed_time, end_time - start_time)\n",
    "      if i % 50 == 0:\n",
    "        print('Step {}: {:4.1f}ms'.format(i, (elapsed_time[-50:].mean()) * 1000))\n",
    "\n",
    "    print('FP32/FP16 TF2.0 saved model')\n",
    "    #print(batched_input.shape)\n",
    "    print('Latency: {:4.1f}ms'.format((elapsed_time.mean()) * 1000))\n",
    "    print('Throughput: {:.0f} images/s'.format(N_run * batch_size / elapsed_time.sum()))\n"
   ]
  },
  {
   "cell_type": "code",
   "execution_count": 118,
   "metadata": {
    "id": "CLFjA-8BfTgh"
   },
   "outputs": [
    {
     "name": "stdout",
     "output_type": "stream",
     "text": [
      "(32, 48, 48, 3)\n",
      "Step 0:  2.3ms\n",
      "Step 50:  2.5ms\n",
      "Step 100:  2.4ms\n",
      "Step 150:  2.4ms\n",
      "Step 200:  2.4ms\n",
      "Step 250:  2.4ms\n",
      "FP32/FP16 TF2.0 saved model\n",
      "Latency:  2.4ms\n",
      "Throughput: 13317 images/s\n"
     ]
    }
   ],
   "source": [
    "benchmark_tftrt('resnet50_saved_model_TFTRT_FP16')"
   ]
  },
  {
   "cell_type": "code",
   "execution_count": null,
   "metadata": {
    "id": "TUlRAIUmfTgj"
   },
   "outputs": [],
   "source": []
  },
  {
   "cell_type": "code",
   "execution_count": null,
   "metadata": {
    "id": "fuX4cUhMfTgj"
   },
   "outputs": [],
   "source": []
  },
  {
   "cell_type": "code",
   "execution_count": null,
   "metadata": {},
   "outputs": [],
   "source": []
  },
  {
   "cell_type": "code",
   "execution_count": null,
   "metadata": {},
   "outputs": [],
   "source": []
  },
  {
   "cell_type": "code",
   "execution_count": null,
   "metadata": {},
   "outputs": [],
   "source": []
  },
  {
   "cell_type": "raw",
   "metadata": {
    "id": "bIvo9WG1fTgj"
   },
   "source": [
    "Model Training TF-TRT INT8 Optimization"
   ]
  },
  {
   "cell_type": "code",
   "execution_count": null,
   "metadata": {
    "id": "-W2ZdEfBfTgj"
   },
   "outputs": [],
   "source": [
    "# import os\n",
    "# os.kill(os.getpid(), 9)"
   ]
  },
  {
   "cell_type": "code",
   "execution_count": 119,
   "metadata": {
    "id": "uxDu-JQcfTgj"
   },
   "outputs": [],
   "source": [
    "from __future__ import absolute_import, division, print_function, unicode_literals\n",
    "import os\n",
    "import time\n",
    "\n",
    "import numpy as np\n",
    "#import matplotlib.pyplot as plt\n",
    "\n",
    "import tensorflow as tf\n",
    "from tensorflow import keras\n",
    "from tensorflow.python.compiler.tensorrt import trt_convert as trt\n",
    "from tensorflow.python.saved_model import tag_constants\n",
    "from tensorflow.keras.applications.resnet50 import ResNet50\n",
    "from tensorflow.keras.preprocessing import image\n",
    "from tensorflow.keras.applications.resnet50 import preprocess_input, decode_predictions"
   ]
  },
  {
   "cell_type": "code",
   "execution_count": 120,
   "metadata": {
    "id": "mmDwihgxfTgk"
   },
   "outputs": [],
   "source": [
    "for image, _ in ds_test.take(1):\n",
    "    batched_input = image"
   ]
  },
  {
   "cell_type": "code",
   "execution_count": 121,
   "metadata": {
    "id": "a1li-DXafTgk",
    "outputId": "fff40962-661a-454a-e619-84fb6db3e380"
   },
   "outputs": [
    {
     "name": "stdout",
     "output_type": "stream",
     "text": [
      "Converting to TF-TRT INT8...\n",
      "INFO:tensorflow:Linked TensorRT version: (8, 2, 3)\n"
     ]
    },
    {
     "name": "stderr",
     "output_type": "stream",
     "text": [
      "INFO:tensorflow:Linked TensorRT version: (8, 2, 3)\n"
     ]
    },
    {
     "name": "stdout",
     "output_type": "stream",
     "text": [
      "INFO:tensorflow:Loaded TensorRT version: (8, 2, 3)\n"
     ]
    },
    {
     "name": "stderr",
     "output_type": "stream",
     "text": [
      "INFO:tensorflow:Loaded TensorRT version: (8, 2, 3)\n"
     ]
    },
    {
     "name": "stdout",
     "output_type": "stream",
     "text": [
      "INFO:tensorflow:Assets written to: resnet50_saved_model_TFTRT_INT8/assets\n"
     ]
    },
    {
     "name": "stderr",
     "output_type": "stream",
     "text": [
      "INFO:tensorflow:Assets written to: resnet50_saved_model_TFTRT_INT8/assets\n"
     ]
    },
    {
     "name": "stdout",
     "output_type": "stream",
     "text": [
      "Done Converting to TF-TRT INT8\n"
     ]
    }
   ],
   "source": [
    "def calibration_input_fn():\n",
    "    yield (batched_input, )\n",
    "\n",
    "print('Converting to TF-TRT INT8...')\n",
    "\n",
    "#converter = trt.TrtGraphConverterV2(input_saved_model_dir='resnet50_saved_model', precision_mode=trt.TrtPrecisionMode.INT8, max_workspace_size_bytes=8000000000)\n",
    "\n",
    "#converter.convert(calibration_input_fn=calibration_input_fn)\n",
    "#converter.save(output_saved_model_dir='resnet50_saved_model_TFTRT_INT8')\n",
    "#print('Done Converting to TF-TRT INT8')\n",
    "\n",
    "conversion_params = trt.DEFAULT_TRT_CONVERSION_PARAMS\n",
    "conversion_params = conversion_params._replace(precision_mode=\"INT8\")\n",
    "conversion_params = conversion_params._replace(minimum_segment_size=3)\n",
    "converter = trt.TrtGraphConverterV2( input_saved_model_dir='resnet50_saved_model', conversion_params=conversion_params)\n",
    "\n",
    "converter.convert(calibration_input_fn=calibration_input_fn)\n",
    "converter.save(output_saved_model_dir='resnet50_saved_model_TFTRT_INT8')\n",
    "print('Done Converting to TF-TRT INT8')"
   ]
  },
  {
   "cell_type": "code",
   "execution_count": 122,
   "metadata": {
    "id": "bILShgFtfTgl"
   },
   "outputs": [],
   "source": [
    "saved_model_loaded = tf.saved_model.load('resnet50_saved_model_TFTRT_INT8', tags=[tag_constants.SERVING])"
   ]
  },
  {
   "cell_type": "code",
   "execution_count": 123,
   "metadata": {
    "id": "UhBiFYR1fTgl",
    "outputId": "8e176e94-0898-41df-c968-02a8265dccf1"
   },
   "outputs": [
    {
     "name": "stdout",
     "output_type": "stream",
     "text": [
      "['serving_default']\n",
      "{'dense_2': TensorSpec(shape=(None, 10), dtype=tf.float32, name='dense_2')}\n"
     ]
    }
   ],
   "source": [
    "#saved_model_loaded = tf.saved_model.load('resnet50_saved_model_TFTRT_INT8', tags=[tag_constants.SERVING])\n",
    "signature_keys = list(saved_model_loaded.signatures.keys())\n",
    "print(signature_keys)\n",
    "\n",
    "infer = saved_model_loaded.signatures['serving_default']\n",
    "print(infer.structured_outputs)\n",
    "\n",
    "labeling = infer(image)\n"
   ]
  },
  {
   "cell_type": "code",
   "execution_count": 124,
   "metadata": {
    "id": "dNo3ydWFfTgm",
    "outputId": "c0b93fd4-809f-4753-e961-556f03ab3529"
   },
   "outputs": [
    {
     "name": "stdout",
     "output_type": "stream",
     "text": [
      "Accuracy of INT8 model: %f tf.Tensor(0.8709677419354839, shape=(), dtype=float64)\n"
     ]
    }
   ],
   "source": [
    "from tensorflow.keras.utils import to_categorical\n",
    "accuracy_sum_INT8 = 0.0\n",
    "for image, label in ds_test.take(-1):  # example is (image, label)\n",
    "    #print(image.shape, label.numpy())\n",
    "    test_labels = to_categorical(label, num_classes=NUM_CLASSES)\n",
    "    #print(test_labels)\n",
    "    labeling = infer(image)\n",
    "    pred_labels = labeling['dense_2'].numpy()\n",
    "    #print(pred_labels)\n",
    "    m = tf.keras.metrics.TopKCategoricalAccuracy(k=1)\n",
    "    m.update_state(test_labels,pred_labels)\n",
    "    #print(m.result().numpy())\n",
    "    accuracy_sum_INT8 = accuracy_sum_INT8 + m.result().numpy()\n",
    "\n",
    "accuracy_INT8 = accuracy_sum_INT8/test_batches\n",
    "#print('Number of Train batches: %d' % tf.data.experimental.cardinality(ds_train))\n",
    "print('Accuracy of INT8 model: %f',accuracy_INT8)"
   ]
  },
  {
   "cell_type": "code",
   "execution_count": 125,
   "metadata": {
    "id": "L2sxsDaofTgn"
   },
   "outputs": [],
   "source": [
    "def benchmark_tftrt(input_saved_model):\n",
    "    #saved_model_loaded = tf.saved_model.load(input_saved_model, tags=[tag_constants.SERVING])\n",
    "    infer = saved_model_loaded.signatures['serving_default']\n",
    "\n",
    "    for image, _ in ds_test.take(1):\n",
    "        batched_input = image\n",
    "        print(batched_input.shape)\n",
    "\n",
    "    batch_size = BATCH_SIZE\n",
    "    N_warmup_run = 50\n",
    "    N_run = 300\n",
    "    elapsed_time = []\n",
    "\n",
    "    for i in range(N_warmup_run):\n",
    "      labeling = infer(batched_input)\n",
    "\n",
    "    for i in range(N_run):\n",
    "      start_time = time.time()\n",
    "      labeling = infer(batched_input)\n",
    "      end_time = time.time()\n",
    "      elapsed_time = np.append(elapsed_time, end_time - start_time)\n",
    "      if i % 50 == 0:\n",
    "        print('Step {}: {:4.1f}ms'.format(i, (elapsed_time[-50:].mean()) * 1000))\n",
    "\n",
    "    print('FP32/FP16 TF2.0 saved model')\n",
    "    #print(batched_input.shape)\n",
    "    print('Latency: {:4.1f}ms'.format((elapsed_time.mean()) * 1000))\n",
    "    print('Throughput: {:.0f} images/s'.format(N_run * batch_size / elapsed_time.sum()))"
   ]
  },
  {
   "cell_type": "code",
   "execution_count": 126,
   "metadata": {
    "id": "oT2cANgrfTgo"
   },
   "outputs": [
    {
     "name": "stdout",
     "output_type": "stream",
     "text": [
      "(32, 48, 48, 3)\n",
      "Step 0:  2.4ms\n",
      "Step 50:  2.4ms\n",
      "Step 100:  2.4ms\n",
      "Step 150:  2.5ms\n",
      "Step 200:  2.4ms\n",
      "Step 250:  2.2ms\n",
      "FP32/FP16 TF2.0 saved model\n",
      "Latency:  2.4ms\n",
      "Throughput: 13523 images/s\n"
     ]
    }
   ],
   "source": [
    "benchmark_tftrt('resnet50_saved_model_TFTRT_INT8')"
   ]
  },
  {
   "cell_type": "code",
   "execution_count": null,
   "metadata": {
    "id": "O4Q1linYfTgq"
   },
   "outputs": [],
   "source": []
  }
 ],
 "metadata": {
  "accelerator": "GPU",
  "colab": {
   "provenance": []
  },
  "gpuClass": "standard",
  "kernelspec": {
   "display_name": "Python 3 (ipykernel)",
   "language": "python",
   "name": "python3"
  },
  "language_info": {
   "codemirror_mode": {
    "name": "ipython",
    "version": 3
   },
   "file_extension": ".py",
   "mimetype": "text/x-python",
   "name": "python",
   "nbconvert_exporter": "python",
   "pygments_lexer": "ipython3",
   "version": "3.8.10"
  }
 },
 "nbformat": 4,
 "nbformat_minor": 4
}
